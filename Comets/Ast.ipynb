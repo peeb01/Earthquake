{
 "cells": [
  {
   "cell_type": "markdown",
   "metadata": {},
   "source": [
    "Commets and Asteroids"
   ]
  },
  {
   "cell_type": "markdown",
   "metadata": {},
   "source": [
    "Asteroids "
   ]
  },
  {
   "cell_type": "code",
   "execution_count": null,
   "metadata": {},
   "outputs": [
    {
     "ename": "",
     "evalue": "",
     "output_type": "error",
     "traceback": [
      "\u001b[1;31mFailed to start the Kernel. \n",
      "\u001b[1;31mAttributeError: partially initialized module 'inspect' has no attribute 'cleandoc' (most likely due to a circular import). \n",
      "\u001b[1;31mView Jupyter <a href='command:jupyter.viewOutput'>log</a> for further details."
     ]
    }
   ],
   "source": [
    "from astropy.coordinates import SkyCoord\n",
    "from astropy.time import Time\n",
    "from astroquery.jplhorizons import Horizons\n",
    "\n",
    "\n",
    "# list object\n",
    "object_plannet = ['SUN', '199', '299', '399', '301', '-74', '599', '699', '433', 'Eros', 'Orus', '-49',\n",
    "                       '-490', '-255', '2000016', '90000190',  \n",
    "                        'Leucus', 'Eurybates','Polymele', 'Vesta', 'Mathilde', 'Lutetia', 'Donaldjohanson','Braille', 'Annefrank', \n",
    "                        'Bennu', 'Itokawa', '-64', 'Apophis', 'Ryugu', '-122911', 'Patroclus', \n",
    "                        '90000855', 'Dinkinesh', '20065803' , 'Gaspra', 'Ceres']\n",
    "\"\"\"\n",
    "+------------------------------------------------------------------------+\n",
    "ID          :   Asteroid name\n",
    "1               Mercury Barycenter                                                   \n",
    "199             Mercury \n",
    "2               Venus Barycenter                                                     \n",
    "299             Venus                                                                \n",
    "-248            Venus Express (spacecraft)\n",
    "3               Earth Moon Barry Center\n",
    "399             Earth\n",
    "-74             Mars Reconnaissance Orbiter (spacec                   \n",
    "-76             Mars Science Laboratory (spacecraft   -> Errors              \n",
    "-143            ExoMars16 TGO (spacecraft)                                           \n",
    "-168            Mars2020 (spacecraft) \n",
    "5               Jupiter Barycenter                                                   \n",
    "599             Jupiter \n",
    "6               Saturn Barycenter                                                    \n",
    "699             Saturn \n",
    "+------------------------------------------------------------------------+\n",
    "-49             Lucy Centaur RB Booster (spacecraft\n",
    "433             Eros\n",
    "-490            Lucy\n",
    "-255            Psyche\n",
    "-64             OSIRIS-REx\n",
    "-64090          OSIRIS-REx  SRC     # cannot found at now\n",
    "90000188        Tempel 1\n",
    "90000189        Tempel 1\n",
    "90000190        Tempel 1\n",
    "90000191        Tempel 1\n",
    "709             Cressida        not use                \n",
    "-122911         Solidaridad-1 (spacecraft)\n",
    "20065803        Didymos (system barycenter)                                          \n",
    "920065803       Didymos (primary body)                                               \n",
    "120065803       Dimorphos\n",
    "\"\"\"\n",
    "\"\"\"\n",
    "    Objects                      ID code #\n",
    "    ---------------------------  -------------------\n",
    "    All planet barycenters       0,1,2,3,4,5,6,7,8,9\n",
    "    Sun                          10\n",
    "    Moon                         301\n",
    "    Mercury                      199\n",
    "    Venus                        299\n",
    "    Earth                        399\n",
    "\"\"\"\n",
    "# yyyy-mm-dd hh:mm:ss\n",
    "epoch = Time('2024-01-13 18:00:00')\n",
    "\n",
    "# object_name = 'Orus'\n",
    "q = Horizons(object_plannet[-1], location='@0', epochs=epoch.tdb.jd)\n",
    "tab = q.vectors(refplane='earth')\n",
    "c = SkyCoord(tab['x'].quantity, tab['y'].quantity, tab['z'].quantity,\n",
    "             representation_type='cartesian', frame='icrs',\n",
    "             obstime=epoch)\n",
    "\n",
    "c"
   ]
  },
  {
   "cell_type": "code",
   "execution_count": 3,
   "metadata": {},
   "outputs": [
    {
     "name": "stderr",
     "output_type": "stream",
     "text": [
      "c:\\Users\\pang0\\AppData\\Local\\Programs\\Python\\Python310\\lib\\site-packages\\erfa\\core.py:154: ErfaWarning: ERFA function \"d2dtf\" yielded 1 of \"dubious year (Note 5)\"\n",
      "  warnings.warn('ERFA function \"{}\" yielded {}'.format(func_name, wmsg),\n"
     ]
    },
    {
     "data": {
      "text/plain": [
       "<Time object: scale='utc' format='iso' value=1950-01-13 18:00:00.000>"
      ]
     },
     "execution_count": 3,
     "metadata": {},
     "output_type": "execute_result"
    }
   ],
   "source": [
    "epoch"
   ]
  },
  {
   "cell_type": "markdown",
   "metadata": {},
   "source": [
    "Calculate Position "
   ]
  },
  {
   "cell_type": "code",
   "execution_count": null,
   "metadata": {},
   "outputs": [
    {
     "ename": "",
     "evalue": "",
     "output_type": "error",
     "traceback": [
      "\u001b[1;31mFailed to start the Kernel. \n",
      "\u001b[1;31mAttributeError: partially initialized module 'inspect' has no attribute 'cleandoc' (most likely due to a circular import). \n",
      "\u001b[1;31mView Jupyter <a href='command:jupyter.viewOutput'>log</a> for further details."
     ]
    }
   ],
   "source": [
    "import re\n",
    "\n",
    "def calculate_position(obj, time):\n",
    "    \"\"\"\n",
    "    Args : \n",
    "        obj     : obj name str\n",
    "        time    : time (utc) format yyyy-mm-dd\n",
    "    \"\"\"\n",
    "    epoch = Time(time)\n",
    "    q = Horizons(obj, location='@0', epochs=epoch.tdb.jd)\n",
    "    tab = q.vectors(refplane='earth')\n",
    "    c = SkyCoord(tab['x'].quantity, tab['y'].quantity, tab['z'].quantity,\n",
    "                representation_type='cartesian', frame='icrs',\n",
    "                obstime=epoch)\n",
    "    result = str(c)\n",
    "    matches = re.findall(r'-?\\d+\\.\\d+', result)\n",
    "    result_list = [float(match) for match in matches]\n",
    "    return result_list\n",
    "\n",
    "ax = calculate_position(object_plannet[0] ,'2000-01-01')\n",
    "ax"
   ]
  },
  {
   "cell_type": "code",
   "execution_count": 5,
   "metadata": {},
   "outputs": [],
   "source": [
    "\n",
    "start_date = '1970-01-01'\n",
    "end_date = '2024-01-14'\n",
    "\n",
    "date_range = pd.date_range(start=start_date, end=end_date, freq='D')\n",
    "\n",
    "df = pd.DataFrame({'Date': date_range})\n",
    "df.to_csv('time.csv')"
   ]
  },
  {
   "cell_type": "code",
   "execution_count": null,
   "metadata": {},
   "outputs": [],
   "source": [
    "import pandas as pd\n",
    "\n",
    "time = pd.read_csv('time.csv')\n",
    "time['time'] = pd.to_datetime(time['Date'])\n",
    "time = time[time['time'] >= '2010-01-01'].astype(str)\n",
    "time = time['time']\n"
   ]
  },
  {
   "cell_type": "code",
   "execution_count": null,
   "metadata": {},
   "outputs": [],
   "source": [
    "from threading import Thread\n",
    "\n",
    "rl = []\n",
    "\n",
    "class Main(Thread):\n",
    "    def __init__(self, i):\n",
    "        super().__init__()\n",
    "        self.i = i\n",
    "    def run(self):\n",
    "        for t in time:\n",
    "            try:\n",
    "                ls = calculate_position(object_plannet[self.i], t)\n",
    "                rl.append(ls)\n",
    "            except Exception as e:\n",
    "                print(f\"Error calculating position for object {i} at time {t}: {e}\")\n",
    "                rl.append([99, 99, 99])\n",
    "\n",
    "for i in range(len(object_plannet)):\n",
    "    Main(i).start()\n",
    "    if   len(rl)%3000 == 0 or len(rl) == len(time):\n",
    "        results = rl\n",
    "        columns = ['Time'] + [f'{obj}_{coord}' for obj in object_plannet for coord in ['X', 'Y', 'Z']]\n",
    "        results_df = pd.DataFrame(results, columns=columns)\n",
    "        results_df.to_csv(f'csv{len(rl)}.csv')\n",
    "\n"
   ]
  }
 ],
 "metadata": {
  "kernelspec": {
   "display_name": "Python 3",
   "language": "python",
   "name": "python3"
  },
  "language_info": {
   "codemirror_mode": {
    "name": "ipython",
    "version": 3
   },
   "file_extension": ".py",
   "mimetype": "text/x-python",
   "name": "python",
   "nbconvert_exporter": "python",
   "pygments_lexer": "ipython3",
   "version": "3.10.11"
  }
 },
 "nbformat": 4,
 "nbformat_minor": 2
}
