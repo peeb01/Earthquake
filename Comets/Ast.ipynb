{
 "cells": [
  {
   "cell_type": "markdown",
   "metadata": {},
   "source": [
    "Commets and Asteroids"
   ]
  },
  {
   "cell_type": "markdown",
   "metadata": {},
   "source": [
    "Asteroids "
   ]
  },
  {
   "cell_type": "code",
   "execution_count": 88,
   "metadata": {},
   "outputs": [
    {
     "data": {
      "text/plain": [
       "<SkyCoord (ICRS): (x, y, z) in AU\n",
       "    [(-0.00790524, -0.00283176, -0.00099914)]>"
      ]
     },
     "execution_count": 88,
     "metadata": {},
     "output_type": "execute_result"
    }
   ],
   "source": [
    "from astropy.coordinates import SkyCoord\n",
    "from astropy.time import Time\n",
    "from astroquery.jplhorizons import Horizons\n",
    "\n",
    "\n",
    "# list object\n",
    "object_plannet = ['SUN', '199', '299', '399', '301', '-74', '599', '699', '433', 'Eros', 'Orus', '-49', '-490', '-255', '2000016', '90000188', '90000190', '90000191', \n",
    "                  'Leucus', 'Eurybates','Polymele', 'Vesta', 'Mathilde', 'Lutetia', 'Donaldjohanson','Braille', 'Annefrank', \n",
    "                  'Bennu', 'Itokawa', '-64', 'Apophis', 'Ryugu', '-122911', 'Patroclus','Wild 2', \n",
    "                  '90000855', 'Dinkinesh', 'Didymos' , '20065803', 'Gaspra', 'Ceres']\n",
    "\"\"\"\n",
    "+------------------------------------------------------------------------+\n",
    "ID          :   Asteroid name\n",
    "1               Mercury Barycenter                                                   \n",
    "199             Mercury \n",
    "2               Venus Barycenter                                                     \n",
    "299             Venus                                                                \n",
    "-248            Venus Express (spacecraft)\n",
    "3               Earth Moon Barry Center\n",
    "399             Earth\n",
    "-74             Mars Reconnaissance Orbiter (spacec                   \n",
    "-76             Mars Science Laboratory (spacecraft   -> Errors              \n",
    "-143            ExoMars16 TGO (spacecraft)                                           \n",
    "-168            Mars2020 (spacecraft) \n",
    "5               Jupiter Barycenter                                                   \n",
    "599             Jupiter \n",
    "6               Saturn Barycenter                                                    \n",
    "699             Saturn \n",
    "+------------------------------------------------------------------------+\n",
    "-49             Lucy Centaur RB Booster (spacecraft\n",
    "433             Eros\n",
    "-490            Lucy\n",
    "-255            Psyche\n",
    "-64             OSIRIS-REx\n",
    "-64090          OSIRIS-REx  SRC     # cannot found at now\n",
    "90000188        Tempel 1\n",
    "90000189        Tempel 1\n",
    "90000190        Tempel 1\n",
    "90000191        Tempel 1\n",
    "709             Cressida        not use                \n",
    "-122911         Solidaridad-1 (spacecraft)\n",
    "20065803        Didymos (system barycenter)                                          \n",
    "920065803       Didymos (primary body)                                               \n",
    "120065803       Dimorphos\n",
    "\"\"\"\n",
    "\"\"\"\n",
    "    Objects                      ID code #\n",
    "    ---------------------------  -------------------\n",
    "    All planet barycenters       0,1,2,3,4,5,6,7,8,9\n",
    "    Sun                          10\n",
    "    Moon                         301\n",
    "    Mercury                      199\n",
    "    Venus                        299\n",
    "    Earth                        399\n",
    "\"\"\"\n",
    "# yyyy-mm-dd hh:mm:ss\n",
    "epoch = Time('2024-01-13 18:00:00')\n",
    "\n",
    "# object_name = 'Orus'\n",
    "q = Horizons(object_plannet[0], location='@0', epochs=epoch.tdb.jd)\n",
    "tab = q.vectors(refplane='earth')\n",
    "c = SkyCoord(tab['x'].quantity, tab['y'].quantity, tab['z'].quantity,\n",
    "             representation_type='cartesian', frame='icrs',\n",
    "             obstime=epoch)\n",
    "\n",
    "c"
   ]
  },
  {
   "cell_type": "code",
   "execution_count": 6,
   "metadata": {},
   "outputs": [
    {
     "data": {
      "text/plain": [
       "<Time object: scale='utc' format='iso' value=2024-01-13 12:00:00.000>"
      ]
     },
     "execution_count": 6,
     "metadata": {},
     "output_type": "execute_result"
    }
   ],
   "source": [
    "epoch"
   ]
  },
  {
   "cell_type": "markdown",
   "metadata": {},
   "source": [
    "Calculate Position "
   ]
  },
  {
   "cell_type": "code",
   "execution_count": 96,
   "metadata": {},
   "outputs": [
    {
     "data": {
      "text/plain": [
       "<SkyCoord (ICRS): (x, y, z) in AU\n",
       "    [(-0.00790524, -0.00283176, -0.00099914)]>"
      ]
     },
     "execution_count": 96,
     "metadata": {},
     "output_type": "execute_result"
    }
   ],
   "source": [
    "def calculate_position(obj, time):\n",
    "    \"\"\"\n",
    "    Args : \n",
    "        obj     : obj name str\n",
    "        time    : time (utc) format yyyy-mm-dd hh:mm:ss \n",
    "    \"\"\"\n",
    "    epoch = Time(time)\n",
    "    q = Horizons(obj, location='@0', epochs=epoch.tdb.jd)\n",
    "    tab = q.vectors(refplane='earth')\n",
    "    c = SkyCoord(tab['x'].quantity, tab['y'].quantity, tab['z'].quantity,\n",
    "                representation_type='cartesian', frame='icrs',\n",
    "                obstime=epoch)\n",
    "    return c\n",
    "\n",
    "calculate_position(object_plannet[0] ,'2024-01-13 18:00:00')"
   ]
  },
  {
   "cell_type": "code",
   "execution_count": 95,
   "metadata": {},
   "outputs": [
    {
     "data": {
      "text/plain": [
       "<SkyCoord (ICRS): (x, y, z) in AU\n",
       "    [(-0.00790524, -0.00283176, -0.00099914)]>"
      ]
     },
     "execution_count": 95,
     "metadata": {},
     "output_type": "execute_result"
    }
   ],
   "source": [
    "calculate_position(object_plannet[0] ,'2024-01-13 18:00:00')"
   ]
  }
 ],
 "metadata": {
  "kernelspec": {
   "display_name": "Python 3",
   "language": "python",
   "name": "python3"
  },
  "language_info": {
   "codemirror_mode": {
    "name": "ipython",
    "version": 3
   },
   "file_extension": ".py",
   "mimetype": "text/x-python",
   "name": "python",
   "nbconvert_exporter": "python",
   "pygments_lexer": "ipython3",
   "version": "3.10.11"
  }
 },
 "nbformat": 4,
 "nbformat_minor": 2
}
