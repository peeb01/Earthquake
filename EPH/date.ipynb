{
 "cells": [
  {
   "cell_type": "code",
   "execution_count": 11,
   "metadata": {},
   "outputs": [
    {
     "name": "stdout",
     "output_type": "stream",
     "text": [
      "        time     y  m  d  h  mm  s\n",
      "0 1950-01-01  1950  1  1  0   0  0\n",
      "1 1950-01-02  1950  1  2  0   0  0\n",
      "2 1950-01-03  1950  1  3  0   0  0\n",
      "3 1950-01-04  1950  1  4  0   0  0\n",
      "4 1950-01-05  1950  1  5  0   0  0\n"
     ]
    }
   ],
   "source": [
    "import pandas as pd\n",
    "import concurrent.futures\n",
    "from skyfield.api import load, Topos\n",
    "import numpy as np\n",
    "\n",
    "def calculate_sun_position(row):\n",
    "    t = ts.utc(year=row['y'], month=row['m'], day=row['d'], hour=row['h'], minute=row['mm'], second=row['s'])\n",
    "    ast_position = observer.at(t).observe(asteroid)\n",
    "    x, y, z = ast_position.apparent().position.au\n",
    "    return [row['time'], x, y, z]\n",
    "\n",
    "df = pd.read_csv('D:\\Earthquake\\EPH\\DATE_1950_2024.csv')\n",
    "df['time'] = pd.to_datetime(df['time'])\n",
    "df['y'] = df['time'].dt.year\n",
    "df['m'] = df['time'].dt.month\n",
    "df['d'] = df['time'].dt.day\n",
    "df['h'] = df['time'].dt.hour\n",
    "df['mm'] = df['time'].dt.minute\n",
    "df['s'] = df['time'].dt.second\n",
    "\n",
    "print(df.head())\n",
    "\n",
    "eph = load('de421.bsp')\n",
    "earth = eph['earth']\n",
    "observer = earth + Topos(latitude_degrees=0, longitude_degrees=0)\n",
    "asteroid = eph['Neptune BARYCENTER']\n",
    "ts = load.timescale()\n",
    "\n",
    "def process_chunk(chunk):\n",
    "    sun_pos_chunk = chunk.apply(calculate_sun_position, axis=1)\n",
    "    return sun_pos_chunk.values.tolist()\n",
    "\n",
    "num_parts = 8\n",
    "chunks = np.array_split(df, num_parts)\n",
    "\n",
    "with concurrent.futures.ThreadPoolExecutor() as executor:\n",
    "    results = list(executor.map(process_chunk, chunks))\n",
    "\n",
    "sun_pos = [item for sublist in results for item in sublist]\n",
    "dt = pd.DataFrame(sun_pos, columns=['time', 'x', 'y', 'z'])\n",
    "dt.to_csv('Neptune.csv', index=False)\n"
   ]
  },
  {
   "cell_type": "code",
   "execution_count": 13,
   "metadata": {},
   "outputs": [
    {
     "name": "stdout",
     "output_type": "stream",
     "text": [
      "SPICE kernel file 'de421.bsp' has 15 segments\n",
      "  JD 2414864.50 - JD 2471184.50  (1899-07-28 through 2053-10-08)\n",
      "      0 -> 1    SOLAR SYSTEM BARYCENTER -> MERCURY BARYCENTER\n",
      "      0 -> 2    SOLAR SYSTEM BARYCENTER -> VENUS BARYCENTER\n",
      "      0 -> 3    SOLAR SYSTEM BARYCENTER -> EARTH BARYCENTER\n",
      "      0 -> 4    SOLAR SYSTEM BARYCENTER -> MARS BARYCENTER\n",
      "      0 -> 5    SOLAR SYSTEM BARYCENTER -> JUPITER BARYCENTER\n",
      "      0 -> 6    SOLAR SYSTEM BARYCENTER -> SATURN BARYCENTER\n",
      "      0 -> 7    SOLAR SYSTEM BARYCENTER -> URANUS BARYCENTER\n",
      "      0 -> 8    SOLAR SYSTEM BARYCENTER -> NEPTUNE BARYCENTER\n",
      "      0 -> 9    SOLAR SYSTEM BARYCENTER -> PLUTO BARYCENTER\n",
      "      0 -> 10   SOLAR SYSTEM BARYCENTER -> SUN\n",
      "      3 -> 301  EARTH BARYCENTER -> MOON\n",
      "      3 -> 399  EARTH BARYCENTER -> EARTH\n",
      "      1 -> 199  MERCURY BARYCENTER -> MERCURY\n",
      "      2 -> 299  VENUS BARYCENTER -> VENUS\n",
      "      4 -> 499  MARS BARYCENTER -> MARS\n"
     ]
    }
   ],
   "source": [
    "from skyfield.api import load, Topos\n",
    "eph = load('de421.bsp')\n",
    "print(eph)"
   ]
  },
  {
   "cell_type": "code",
   "execution_count": null,
   "metadata": {},
   "outputs": [],
   "source": [
    "\n"
   ]
  }
 ],
 "metadata": {
  "kernelspec": {
   "display_name": "Python 3",
   "language": "python",
   "name": "python3"
  },
  "language_info": {
   "codemirror_mode": {
    "name": "ipython",
    "version": 3
   },
   "file_extension": ".py",
   "mimetype": "text/x-python",
   "name": "python",
   "nbconvert_exporter": "python",
   "pygments_lexer": "ipython3",
   "version": "3.10.11"
  }
 },
 "nbformat": 4,
 "nbformat_minor": 2
}
