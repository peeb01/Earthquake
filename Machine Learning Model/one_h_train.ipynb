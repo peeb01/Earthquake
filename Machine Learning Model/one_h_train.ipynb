{
 "cells": [
  {
   "cell_type": "code",
   "execution_count": 1,
   "metadata": {},
   "outputs": [],
   "source": [
    "import pandas as pd\n",
    "import numpy as np\n",
    "import IPython"
   ]
  },
  {
   "cell_type": "code",
   "execution_count": 2,
   "metadata": {},
   "outputs": [],
   "source": [
    "df = pd.read_csv('D:\\\\Earthquake\\\\DATASET_STORE\\\\UPDATE DATASET_1.csv')\n",
    "\n",
    "# for Japan\n",
    "df = df[((22.918 <= df['latitude']) & (df['latitude'] <= 40.514) | (39.3 <= df['latitude']) & (df['latitude'] <= 49.382)) &\n",
    "        ((124.277 <= df['longitude']) & (df['longitude'] <= 151.196) | (132.451 <= df['longitude']) & (df['longitude'] <= 159.082))]"
   ]
  },
  {
   "cell_type": "code",
   "execution_count": 3,
   "metadata": {},
   "outputs": [],
   "source": [
    "latitude = df['latitude'].values.astype(np.int32)\n",
    "longitude = df['longitude'].values.astype(np.int32)"
   ]
  },
  {
   "cell_type": "code",
   "execution_count": 4,
   "metadata": {},
   "outputs": [],
   "source": [
    "lat_df = pd.DataFrame({'latitude': latitude})\n",
    "lon_df = pd.DataFrame({'longitude': longitude})\n",
    "unique_latitudes = np.unique(lat_df)\n",
    "unique_longitudes = np.unique(lon_df)\n",
    "latitude = pd.get_dummies(lat_df['latitude']).values.astype(np.float32)\n",
    "longitude = pd.get_dummies(lon_df['longitude']).values.astype(np.float32)"
   ]
  },
  {
   "cell_type": "code",
   "execution_count": 5,
   "metadata": {},
   "outputs": [
    {
     "name": "stdout",
     "output_type": "stream",
     "text": [
      "[38]\n",
      "[0. 0. 0. 0. 0. 0. 0. 0. 0. 0. 0. 0. 0. 0. 0. 0. 1. 0. 0. 0. 0. 0. 0. 0.\n",
      " 0. 0. 0. 0.]\n",
      "38\n",
      "[38]\n",
      "--------\n",
      "[139]\n",
      "[0. 0. 0. 0. 0. 0. 0. 0. 0. 0. 0. 0. 0. 0. 0. 1. 0. 0. 0. 0. 0. 0. 0. 0.\n",
      " 0. 0. 0. 0. 0. 0. 0. 0. 0. 0. 0.]\n",
      "139\n",
      "[139]\n"
     ]
    }
   ],
   "source": [
    "print(lat_df.values[500])\n",
    "print(latitude[500])\n",
    "for i in range(len(latitude[500])):\n",
    "    if latitude[500][i] == 1:\n",
    "        print(unique_latitudes[i])\n",
    "        print(lat_df.values[500])\n",
    "# pass\n",
    "\n",
    "\n",
    "print('--------')  \n",
    "print(lon_df.values[500])\n",
    "print(longitude[500])\n",
    "for i in range(len(longitude[500])):\n",
    "    if longitude[500][i] == 1:\n",
    "        print(unique_longitudes[i])\n",
    "        print(lon_df.values[500])\n",
    "\n",
    "## PASS"
   ]
  },
  {
   "cell_type": "code",
   "execution_count": 6,
   "metadata": {},
   "outputs": [],
   "source": [
    "import tensorflow as tf\n",
    "from keras.activations import relu, softmax, sigmoid, tanh\n",
    "from keras.models import Sequential\n",
    "from sklearn.model_selection import train_test_split\n",
    "\n",
    "from keras.models import Sequential, load_model\n",
    "from keras.layers import InputLayer, LSTM, Dense\n",
    "from keras.callbacks import ModelCheckpoint, EarlyStopping\n",
    "from keras.losses import MeanSquaredError, MeanAbsoluteError\n",
    "from keras.activations import *\n",
    "from keras.optimizers import Adam\n",
    "from keras.metrics import RootMeanSquaredError"
   ]
  },
  {
   "cell_type": "code",
   "execution_count": 7,
   "metadata": {},
   "outputs": [],
   "source": [
    "x = df.iloc[:, 4:].values\n",
    "y = latitude\n",
    "x_train, x_test, y_train, y_test = train_test_split(x, y, test_size=0.25, random_state=42)\n",
    "test_size_percentage = 0.10  \n",
    "validation_size_percentage = 0.15  \n",
    "\n",
    "validation_ratio = validation_size_percentage / (1 - test_size_percentage)\n",
    "\n",
    "x_test, x_val, y_test, y_val = train_test_split(x_test, y_test, test_size=validation_ratio, random_state=42)"
   ]
  },
  {
   "cell_type": "code",
   "execution_count": 8,
   "metadata": {},
   "outputs": [
    {
     "data": {
      "text/plain": [
       "((43017, 36), (43017, 28), (2390, 36), (2390, 28), (11950, 36), (11950, 28))"
      ]
     },
     "execution_count": 8,
     "metadata": {},
     "output_type": "execute_result"
    }
   ],
   "source": [
    "x_train.shape, y_train.shape, x_val.shape, y_val.shape, x_test.shape, y_test.shape"
   ]
  },
  {
   "cell_type": "code",
   "execution_count": null,
   "metadata": {},
   "outputs": [],
   "source": [
    "x_train"
   ]
  },
  {
   "cell_type": "markdown",
   "metadata": {},
   "source": [
    "# Feed Forward Neural Network"
   ]
  },
  {
   "cell_type": "code",
   "execution_count": 9,
   "metadata": {},
   "outputs": [],
   "source": [
    "lat_model = Sequential([\n",
    "    Dense(32, input_shape=(x.shape[1], ), activation=relu),\n",
    "    Dense(64, activation=relu),\n",
    "    Dense(16, activation=relu),\n",
    "    Dense(y.shape[1], activation=softmax)\n",
    "])"
   ]
  },
  {
   "cell_type": "code",
   "execution_count": 10,
   "metadata": {},
   "outputs": [],
   "source": [
    "patience = 2\n",
    "early_stopping = EarlyStopping(monitor='val_loss', patience=patience, mode='min')\n",
    "lat_model.compile(loss=MeanSquaredError(), optimizer=Adam(), metrics=['accuracy'])"
   ]
  },
  {
   "cell_type": "code",
   "execution_count": 13,
   "metadata": {},
   "outputs": [],
   "source": [
    "history = lat_model.fit(x_train, y_train, validation_data=(x_val, y_val), epochs=500, batch_size=128)  # , callbacks=[early_stopping]\n",
    "IPython.display.clear_output()"
   ]
  },
  {
   "cell_type": "code",
   "execution_count": 12,
   "metadata": {},
   "outputs": [],
   "source": [
    "lat_model.save('W_train_classifi.h5')"
   ]
  },
  {
   "cell_type": "code",
   "execution_count": null,
   "metadata": {},
   "outputs": [],
   "source": [
    "from keras.models import load_model\n",
    "\n",
    "model = load_model('W_train_classifi.h5')"
   ]
  },
  {
   "cell_type": "code",
   "execution_count": null,
   "metadata": {},
   "outputs": [],
   "source": [
    "import plotly.express as px  # Be sure to import express\n",
    "# reduce size of db otherwise it could break\n",
    "fig = px.scatter_geo(top_missing[top_missing.number_of_strikes_x>=300],  # Input Pandas DataFrame\n",
    "                    lat=\"latitude\",  # DataFrame column with latitude\n",
    "                    lon=\"longitude\",  # DataFrame column with latitude\n",
    "                    size=\"number_of_strikes_x\") # Set to plot size as number of strikes\n",
    "fig.update_layout(\n",
    "    title_text = 'Missing data', # Create a Title\n",
    ")\n",
    "\n",
    "fig.show()"
   ]
  }
 ],
 "metadata": {
  "kernelspec": {
   "display_name": "Python 3",
   "language": "python",
   "name": "python3"
  },
  "language_info": {
   "codemirror_mode": {
    "name": "ipython",
    "version": 3
   },
   "file_extension": ".py",
   "mimetype": "text/x-python",
   "name": "python",
   "nbconvert_exporter": "python",
   "pygments_lexer": "ipython3",
   "version": "3.10.11"
  }
 },
 "nbformat": 4,
 "nbformat_minor": 2
}
