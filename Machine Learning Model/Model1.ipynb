{
 "cells": [
  {
   "cell_type": "code",
   "execution_count": 1,
   "metadata": {},
   "outputs": [],
   "source": [
    "import tensorflow as tf\n",
    "import pandas as pd\n",
    "import matplotlib.pyplot as plt\n",
    "from sklearn.model_selection import train_test_split\n",
    "import numpy as np\n",
    "import IPython"
   ]
  },
  {
   "cell_type": "code",
   "execution_count": null,
   "metadata": {},
   "outputs": [],
   "source": [
    "# df = pd.read_csv('D:\\Earthquake\\Machine Learning Model\\Earthquake_Position_planets.csv')\n",
    "# df.head()"
   ]
  },
  {
   "cell_type": "code",
   "execution_count": 8,
   "metadata": {},
   "outputs": [],
   "source": [
    "df['time'] = pd.to_datetime(df['time'], format='%m/%d/%Y %H:%M')\n",
    "# df['time'] = df['time'].dt.strftime('%Y-%m-%d %H:%M')\n",
    "df['sq'] = df['time'].dt.strftime('%Y-%m-%d')"
   ]
  },
  {
   "cell_type": "markdown",
   "metadata": {},
   "source": [
    "Trainning \n",
    "\n",
    "Models1 \n",
    "\n",
    "input   x => latitude longitude position_asteroids|plannets\n",
    "output  y => True False\n",
    "\n",
    "\n",
    "Medels2\n",
    "\n",
    "input   x => position_asteroid|plannets\n",
    "output  y => latitude and longitude"
   ]
  },
  {
   "cell_type": "code",
   "execution_count": 9,
   "metadata": {},
   "outputs": [],
   "source": [
    "# df = df[((22.918 <= df['latitude']) & (df['latitude'] <= 40.514) | (39.3 <= df['latitude']) & (df['latitude'] <= 49.382)) &\n",
    "#         ((124.277 <= df['longitude']) & (df['longitude'] <= 151.196) | (132.451 <= df['longitude']) & (df['longitude'] <= 159.082))]\n",
    "\n",
    "# print(df)\n"
   ]
  },
  {
   "cell_type": "code",
   "execution_count": 10,
   "metadata": {},
   "outputs": [],
   "source": [
    "\n",
    "# df['time'] = pd.to_datetime(df['time'])\n",
    "\n",
    "# start_date = \"1950-09-24\"\n",
    "# end_date = \"2023-07-23\"\n",
    "# date_range = pd.date_range(start=start_date, end=end_date, freq='D')\n",
    "\n",
    "# date_range_str = date_range.strftime('%Y-%m-%d').tolist()\n",
    "\n",
    "# df['sq'] = df['time'].dt.strftime('%Y-%m-%d')\n",
    "\n",
    "# result = [date for date in date_range_str if date not in df['sq'].tolist()]\n",
    "\n",
    "# print(result)"
   ]
  },
  {
   "cell_type": "code",
   "execution_count": 11,
   "metadata": {},
   "outputs": [],
   "source": [
    "# for rs in result:\n",
    "#     print(rs)\n",
    "\n",
    "# print(len(result))\n",
    "# print(result[-1])"
   ]
  },
  {
   "cell_type": "code",
   "execution_count": 12,
   "metadata": {},
   "outputs": [
    {
     "data": {
      "text/html": [
       "<div>\n",
       "<style scoped>\n",
       "    .dataframe tbody tr th:only-of-type {\n",
       "        vertical-align: middle;\n",
       "    }\n",
       "\n",
       "    .dataframe tbody tr th {\n",
       "        vertical-align: top;\n",
       "    }\n",
       "\n",
       "    .dataframe thead th {\n",
       "        text-align: right;\n",
       "    }\n",
       "</style>\n",
       "<table border=\"1\" class=\"dataframe\">\n",
       "  <thead>\n",
       "    <tr style=\"text-align: right;\">\n",
       "      <th></th>\n",
       "      <th>count</th>\n",
       "      <th>mean</th>\n",
       "      <th>std</th>\n",
       "      <th>min</th>\n",
       "      <th>25%</th>\n",
       "      <th>50%</th>\n",
       "      <th>75%</th>\n",
       "      <th>max</th>\n",
       "    </tr>\n",
       "  </thead>\n",
       "  <tbody>\n",
       "    <tr>\n",
       "      <th>latitude</th>\n",
       "      <td>960000.0</td>\n",
       "      <td>19.637850</td>\n",
       "      <td>29.439833</td>\n",
       "      <td>-84.4220</td>\n",
       "      <td>-3.861925</td>\n",
       "      <td>27.50645</td>\n",
       "      <td>40.255000</td>\n",
       "      <td>87.386</td>\n",
       "    </tr>\n",
       "    <tr>\n",
       "      <th>longitude</th>\n",
       "      <td>960000.0</td>\n",
       "      <td>-20.274812</td>\n",
       "      <td>120.064791</td>\n",
       "      <td>-179.9997</td>\n",
       "      <td>-121.417375</td>\n",
       "      <td>-66.59000</td>\n",
       "      <td>117.861825</td>\n",
       "      <td>180.000</td>\n",
       "    </tr>\n",
       "    <tr>\n",
       "      <th>mag</th>\n",
       "      <td>960000.0</td>\n",
       "      <td>3.833837</td>\n",
       "      <td>0.914126</td>\n",
       "      <td>0.7000</td>\n",
       "      <td>2.940000</td>\n",
       "      <td>4.00000</td>\n",
       "      <td>4.500000</td>\n",
       "      <td>9.500</td>\n",
       "    </tr>\n",
       "  </tbody>\n",
       "</table>\n",
       "</div>"
      ],
      "text/plain": [
       "              count       mean         std       min         25%       50%  \\\n",
       "latitude   960000.0  19.637850   29.439833  -84.4220   -3.861925  27.50645   \n",
       "longitude  960000.0 -20.274812  120.064791 -179.9997 -121.417375 -66.59000   \n",
       "mag        960000.0   3.833837    0.914126    0.7000    2.940000   4.00000   \n",
       "\n",
       "                  75%      max  \n",
       "latitude    40.255000   87.386  \n",
       "longitude  117.861825  180.000  \n",
       "mag          4.500000    9.500  "
      ]
     },
     "execution_count": 12,
     "metadata": {},
     "output_type": "execute_result"
    }
   ],
   "source": [
    "testQ = df[['time', 'latitude', 'longitude', 'mag']]\n",
    "testQ['time'] = pd.to_datetime(testQ['time'])\n",
    "testQ['time'] = testQ['time'].dt.strftime('%H:%M')\n",
    "IPython.display.clear_output()\n",
    "testQ.describe().transpose()"
   ]
  }
 ],
 "metadata": {
  "kernelspec": {
   "display_name": "Python 3",
   "language": "python",
   "name": "python3"
  },
  "language_info": {
   "codemirror_mode": {
    "name": "ipython",
    "version": 3
   },
   "file_extension": ".py",
   "mimetype": "text/x-python",
   "name": "python",
   "nbconvert_exporter": "python",
   "pygments_lexer": "ipython3",
   "version": "3.10.11"
  }
 },
 "nbformat": 4,
 "nbformat_minor": 2
}
