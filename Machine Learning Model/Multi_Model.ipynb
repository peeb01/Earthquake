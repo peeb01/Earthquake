{
 "cells": [
  {
   "cell_type": "markdown",
   "metadata": {},
   "source": [
    "# Machine Leanrning Multi Model using LSTMs and CNNs"
   ]
  },
  {
   "cell_type": "code",
   "execution_count": 8,
   "metadata": {},
   "outputs": [],
   "source": [
    "# Basic Library\n",
    "import numpy as np\n",
    "import pandas as pd\n",
    "import matplotlib.pyplot as plt\n",
    "from sklearn.model_selection import train_test_split\n",
    "\n",
    "# Neural Network Library\n",
    "import tensorflow as tf\n",
    "from keras.models import Sequential\n",
    "from keras.layers import LSTM, Dense, Conv2D, MaxPooling2D, Flatten, concatenate\n",
    "from keras.activations import relu, softmax, sigmoid\n",
    "from keras.losses import MeanSquaredError"
   ]
  },
  {
   "cell_type": "markdown",
   "metadata": {},
   "source": [
    "### Data Preparation\n",
    "\n",
    "#### Eng\n",
    "- Prepare dataset containing the relevant features such as latitude, longitude, magnitude, star positions (X, Y, Z), and distance.\n",
    "- Split data into training, validation, and testing sets.\n",
    "\n",
    "#### TH\n",
    "- เตรียมชุดข้อมูลที่มีคุณสมบัติที่เกี่ยวข้อง เช่น ละติจูด ลองจิจูด ขนาด ตำแหน่งดาว (X, Y, Z) และระยะทาง\n",
    "- แบ่งข้อมูลออกเป็นชุดการฝึกอบรม การตรวจสอบ และการทดสอบ"
   ]
  },
  {
   "cell_type": "code",
   "execution_count": 6,
   "metadata": {},
   "outputs": [
    {
     "data": {
      "text/html": [
       "<div>\n",
       "<style scoped>\n",
       "    .dataframe tbody tr th:only-of-type {\n",
       "        vertical-align: middle;\n",
       "    }\n",
       "\n",
       "    .dataframe tbody tr th {\n",
       "        vertical-align: top;\n",
       "    }\n",
       "\n",
       "    .dataframe thead th {\n",
       "        text-align: right;\n",
       "    }\n",
       "</style>\n",
       "<table border=\"1\" class=\"dataframe\">\n",
       "  <thead>\n",
       "    <tr style=\"text-align: right;\">\n",
       "      <th></th>\n",
       "      <th>datetime</th>\n",
       "      <th>latitude</th>\n",
       "      <th>longitude</th>\n",
       "      <th>mag</th>\n",
       "      <th>SUN_x</th>\n",
       "      <th>SUN_y</th>\n",
       "      <th>SUN_z</th>\n",
       "      <th>distance_sun</th>\n",
       "      <th>MERCURY BARYCENTER_x</th>\n",
       "      <th>MERCURY BARYCENTER_y</th>\n",
       "      <th>...</th>\n",
       "      <th>SATURN BARYCENTER_z</th>\n",
       "      <th>distance_saturn barycenter</th>\n",
       "      <th>URANUS BARYCENTER_x</th>\n",
       "      <th>URANUS BARYCENTER_y</th>\n",
       "      <th>URANUS BARYCENTER_z</th>\n",
       "      <th>distance_uranus barycenter</th>\n",
       "      <th>NEPTUNE BARYCENTER_x</th>\n",
       "      <th>NEPTUNE BARYCENTER_y</th>\n",
       "      <th>NEPTUNE BARYCENTER_z</th>\n",
       "      <th>distance_neptune barycenter</th>\n",
       "    </tr>\n",
       "  </thead>\n",
       "  <tbody>\n",
       "    <tr>\n",
       "      <th>73026</th>\n",
       "      <td>1980-01-01 01:24:00</td>\n",
       "      <td>12.353000</td>\n",
       "      <td>95.192000</td>\n",
       "      <td>5.10</td>\n",
       "      <td>0.170784</td>\n",
       "      <td>-0.888409</td>\n",
       "      <td>-0.385223</td>\n",
       "      <td>0.983277</td>\n",
       "      <td>-0.042131</td>\n",
       "      <td>-1.259595</td>\n",
       "      <td>...</td>\n",
       "      <td>0.490073</td>\n",
       "      <td>9.15364</td>\n",
       "      <td>-11.310912</td>\n",
       "      <td>-14.497726</td>\n",
       "      <td>-6.182954</td>\n",
       "      <td>19.399735</td>\n",
       "      <td>-4.767449</td>\n",
       "      <td>-28.580035</td>\n",
       "      <td>-11.596655</td>\n",
       "      <td>31.209444</td>\n",
       "    </tr>\n",
       "    <tr>\n",
       "      <th>73027</th>\n",
       "      <td>1980-01-01 02:09:00</td>\n",
       "      <td>36.247833</td>\n",
       "      <td>-120.818833</td>\n",
       "      <td>3.65</td>\n",
       "      <td>0.170784</td>\n",
       "      <td>-0.888409</td>\n",
       "      <td>-0.385223</td>\n",
       "      <td>0.983277</td>\n",
       "      <td>-0.042131</td>\n",
       "      <td>-1.259595</td>\n",
       "      <td>...</td>\n",
       "      <td>0.490073</td>\n",
       "      <td>9.15364</td>\n",
       "      <td>-11.310912</td>\n",
       "      <td>-14.497726</td>\n",
       "      <td>-6.182954</td>\n",
       "      <td>19.399735</td>\n",
       "      <td>-4.767449</td>\n",
       "      <td>-28.580035</td>\n",
       "      <td>-11.596655</td>\n",
       "      <td>31.209444</td>\n",
       "    </tr>\n",
       "    <tr>\n",
       "      <th>73028</th>\n",
       "      <td>1980-01-01 02:09:00</td>\n",
       "      <td>36.253333</td>\n",
       "      <td>-120.817833</td>\n",
       "      <td>3.20</td>\n",
       "      <td>0.170784</td>\n",
       "      <td>-0.888409</td>\n",
       "      <td>-0.385223</td>\n",
       "      <td>0.983277</td>\n",
       "      <td>-0.042131</td>\n",
       "      <td>-1.259595</td>\n",
       "      <td>...</td>\n",
       "      <td>0.490073</td>\n",
       "      <td>9.15364</td>\n",
       "      <td>-11.310912</td>\n",
       "      <td>-14.497726</td>\n",
       "      <td>-6.182954</td>\n",
       "      <td>19.399735</td>\n",
       "      <td>-4.767449</td>\n",
       "      <td>-28.580035</td>\n",
       "      <td>-11.596655</td>\n",
       "      <td>31.209444</td>\n",
       "    </tr>\n",
       "  </tbody>\n",
       "</table>\n",
       "<p>3 rows × 40 columns</p>\n",
       "</div>"
      ],
      "text/plain": [
       "                 datetime   latitude   longitude   mag     SUN_x     SUN_y  \\\n",
       "73026 1980-01-01 01:24:00  12.353000   95.192000  5.10  0.170784 -0.888409   \n",
       "73027 1980-01-01 02:09:00  36.247833 -120.818833  3.65  0.170784 -0.888409   \n",
       "73028 1980-01-01 02:09:00  36.253333 -120.817833  3.20  0.170784 -0.888409   \n",
       "\n",
       "          SUN_z  distance_sun  MERCURY BARYCENTER_x  MERCURY BARYCENTER_y  \\\n",
       "73026 -0.385223      0.983277             -0.042131             -1.259595   \n",
       "73027 -0.385223      0.983277             -0.042131             -1.259595   \n",
       "73028 -0.385223      0.983277             -0.042131             -1.259595   \n",
       "\n",
       "       ...  SATURN BARYCENTER_z  distance_saturn barycenter  \\\n",
       "73026  ...             0.490073                     9.15364   \n",
       "73027  ...             0.490073                     9.15364   \n",
       "73028  ...             0.490073                     9.15364   \n",
       "\n",
       "       URANUS BARYCENTER_x  URANUS BARYCENTER_y  URANUS BARYCENTER_z  \\\n",
       "73026           -11.310912           -14.497726            -6.182954   \n",
       "73027           -11.310912           -14.497726            -6.182954   \n",
       "73028           -11.310912           -14.497726            -6.182954   \n",
       "\n",
       "       distance_uranus barycenter  NEPTUNE BARYCENTER_x  NEPTUNE BARYCENTER_y  \\\n",
       "73026                   19.399735             -4.767449            -28.580035   \n",
       "73027                   19.399735             -4.767449            -28.580035   \n",
       "73028                   19.399735             -4.767449            -28.580035   \n",
       "\n",
       "       NEPTUNE BARYCENTER_z  distance_neptune barycenter  \n",
       "73026            -11.596655                    31.209444  \n",
       "73027            -11.596655                    31.209444  \n",
       "73028            -11.596655                    31.209444  \n",
       "\n",
       "[3 rows x 40 columns]"
      ]
     },
     "execution_count": 6,
     "metadata": {},
     "output_type": "execute_result"
    }
   ],
   "source": [
    "DATA_PATH = \"DATASET_STORE\\\\UPDATE DATASET_1.csv\"\n",
    "df = pd.read_csv(DATA_PATH)\n",
    "df['datetime'] = pd.to_datetime(df['datetime'])\n",
    "df1 = df[df['datetime']>= '1980-01-01 00:00:01']\n",
    "df1.head(3)"
   ]
  },
  {
   "cell_type": "code",
   "execution_count": null,
   "metadata": {},
   "outputs": [],
   "source": []
  },
  {
   "cell_type": "code",
   "execution_count": null,
   "metadata": {},
   "outputs": [],
   "source": [
    "X_train, X_test, y_train, y_test = train_test_split(X, y, test_size=0.2, shuffle=False)"
   ]
  },
  {
   "cell_type": "markdown",
   "metadata": {},
   "source": [
    "### CNN for Spatial Feature Extraction\n",
    "\n",
    "- Design a CNN architecture to process spatial data (latitude, longitude, star positions).\n",
    "- Define the input shape of CNN based on the dimensions of input data (e.g., latitude-longitude grid for geographical data, 3D coordinates for star positions).\n",
    "- Add convolutional layers with appropriate filters to extract spatial features. Can use pooling layers to reduce spatial dimensions and increase computational efficiency.\n",
    "- Experiment with different CNN architectures and hyperparameters to optimize feature extraction."
   ]
  },
  {
   "cell_type": "code",
   "execution_count": null,
   "metadata": {},
   "outputs": [],
   "source": []
  },
  {
   "cell_type": "markdown",
   "metadata": {},
   "source": [
    "### LSTM for Temporal Modeling\n",
    "\n",
    "- Design an LSTM architecture to capture temporal patterns in earthquake occurrences over time.\n",
    "- Prepare data for LSTM input by organizing it into sequences. For example, create sequences of earthquake data with a specific time window (e.g., past month's data).\n",
    "- Define the input shape of LSTM based on the sequence length and feature dimensions.\n",
    "- Add LSTM layers to the architecture, along with optional dropout layers for regularization to prevent overfitting.\n",
    "- Experiment with different LSTM architectures and hyperparameters to capture temporal dependencies effectively."
   ]
  },
  {
   "cell_type": "code",
   "execution_count": null,
   "metadata": {},
   "outputs": [],
   "source": []
  },
  {
   "cell_type": "markdown",
   "metadata": {},
   "source": [
    "### Hybrid Architecture Integration\n",
    "\n",
    "- Combine the output of the CNN (spatial features) with the input data for the LSTM (temporal sequences).\n",
    "- Can either concatenate the CNN output with the LSTM input or use attention mechanisms to focus on relevant spatial features at each time step.\n",
    "- Define the final architecture that includes both the CNN and LSTM components, ensuring compatibility between their input and output shapes."
   ]
  },
  {
   "cell_type": "code",
   "execution_count": null,
   "metadata": {},
   "outputs": [],
   "source": []
  },
  {
   "cell_type": "markdown",
   "metadata": {},
   "source": [
    "### Training and Evaluation\n",
    "\n",
    "- Compile the hybrid model with an appropriate loss function (e.g., mean squared error for regression tasks) and optimizer (e.g., Adam optimizer).\n",
    "- Train the model on the training data and monitor its performance on the validation set to avoid overfitting. Use techniques like early stopping if needed.\n",
    "- Evaluate the model's performance on the test set using relevant metrics (e.g., mean absolute error, R-squared for regression tasks).\n",
    "- Fine-tune hyperparameters based on validation results to improve the model's accuracy and generalization ability."
   ]
  },
  {
   "cell_type": "code",
   "execution_count": null,
   "metadata": {},
   "outputs": [],
   "source": []
  }
 ],
 "metadata": {
  "kernelspec": {
   "display_name": "Python 3",
   "language": "python",
   "name": "python3"
  },
  "language_info": {
   "codemirror_mode": {
    "name": "ipython",
    "version": 3
   },
   "file_extension": ".py",
   "mimetype": "text/x-python",
   "name": "python",
   "nbconvert_exporter": "python",
   "pygments_lexer": "ipython3",
   "version": "3.10.11"
  }
 },
 "nbformat": 4,
 "nbformat_minor": 2
}
